{
 "cells": [
  {
   "cell_type": "markdown",
   "id": "4e305c6d",
   "metadata": {},
   "source": [
    "## Это репозиторий, посвящёный научной практике в университете\n",
    "\n",
    "Задача состояла в том, что бы попрактиковаться в методах комьютерного зрения.\n",
    "\n",
    "Были найдены открытые датасеты МРТ снимков опухолей головного мозга, они были объеденненны и на них испытанны различные алгоритмы для решения типовых задач компьютерного зрения."
   ]
  },
  {
   "cell_type": "code",
   "execution_count": null,
   "id": "57ff383f",
   "metadata": {},
   "outputs": [],
   "source": []
  }
 ],
 "metadata": {
  "kernelspec": {
   "display_name": "Python 3 (ipykernel)",
   "language": "python",
   "name": "python3"
  },
  "language_info": {
   "codemirror_mode": {
    "name": "ipython",
    "version": 3
   },
   "file_extension": ".py",
   "mimetype": "text/x-python",
   "name": "python",
   "nbconvert_exporter": "python",
   "pygments_lexer": "ipython3",
   "version": "3.10.2"
  }
 },
 "nbformat": 4,
 "nbformat_minor": 5
}
